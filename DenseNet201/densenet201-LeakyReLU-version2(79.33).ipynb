{
 "cells": [
  {
   "cell_type": "code",
   "execution_count": null,
   "metadata": {
    "_cell_guid": "b1076dfc-b9ad-4769-8c92-a6c4dae69d19",
    "_uuid": "8f2839f25d086af736a60e9eeb907d3b93b6e0e5",
    "execution": {
     "iopub.execute_input": "2025-03-28T07:05:52.123233Z",
     "iopub.status.busy": "2025-03-28T07:05:52.122804Z",
     "iopub.status.idle": "2025-03-28T07:05:52.128565Z",
     "shell.execute_reply": "2025-03-28T07:05:52.127594Z",
     "shell.execute_reply.started": "2025-03-28T07:05:52.123201Z"
    },
    "trusted": true
   },
   "outputs": [],
   "source": [
    "import os, tensorflow, keras\n",
    "from tensorflow.keras.preprocessing.image import ImageDataGenerator\n",
    "from tensorflow.keras.applications import DenseNet201\n",
    "from tensorflow.keras.layers import Dense, GlobalAveragePooling2D, MaxPooling2D, BatchNormalization, Dropout, Lambda, LeakyReLU\n",
    "from tensorflow.keras.models import Model\n",
    "from tensorflow.keras.regularizers import l2\n",
    "from tensorflow.keras.optimizers import Adam\n",
    "from tensorflow.keras.callbacks import ReduceLROnPlateau, EarlyStopping, ModelCheckpoint"
   ]
  },
  {
   "cell_type": "markdown",
   "metadata": {},
   "source": [
    "# Load datasets"
   ]
  },
  {
   "cell_type": "code",
   "execution_count": null,
   "metadata": {
    "execution": {
     "iopub.execute_input": "2025-03-28T07:05:56.391085Z",
     "iopub.status.busy": "2025-03-28T07:05:56.390713Z",
     "iopub.status.idle": "2025-03-28T07:06:33.952522Z",
     "shell.execute_reply": "2025-03-28T07:06:33.951330Z",
     "shell.execute_reply.started": "2025-03-28T07:05:56.391047Z"
    },
    "trusted": true
   },
   "outputs": [],
   "source": [
    "# load the dataset => training, cross-validation and test sets\n",
    "\n",
    "train_dir = os.path.join(\"/kaggle/input/isic-2017-dataset/content/Linear_Exact_Aug/Train\")\n",
    "test_dir = os.path.join(\"/kaggle/input/isic-2017-dataset/content/Linear_Exact_Aug/Test\")\n",
    "valid_dir = os.path.join(\"/kaggle/input/isic-2017-dataset/content/Linear_Exact_Aug/Valid\")\n",
    "\n",
    "# print(\"Train Directory:\", train_dir)\n",
    "# print(\"Test Directory:\", test_dir)\n",
    "# print(\"Validation Directory:\", valid_dir)\n",
    "\n",
    "IMG_SIZE = (224, 224)\n",
    "BATCH_SIZE = 32\n",
    "\n",
    "train_datagen = ImageDataGenerator(rescale=1./255)\n",
    "test_datagen = ImageDataGenerator(rescale=1./255)\n",
    "valid_datagen = ImageDataGenerator(rescale=1./255)\n",
    "\n",
    "train_generator = train_datagen.flow_from_directory(\n",
    "    train_dir,\n",
    "    target_size=IMG_SIZE,\n",
    "    batch_size=BATCH_SIZE,\n",
    "    class_mode='sparse'\n",
    ")\n",
    "\n",
    "valid_generator = valid_datagen.flow_from_directory(\n",
    "    valid_dir,\n",
    "    target_size=IMG_SIZE,\n",
    "    batch_size=BATCH_SIZE,\n",
    "    class_mode='sparse'\n",
    ")\n",
    "\n",
    "test_generator = test_datagen.flow_from_directory(\n",
    "    test_dir,\n",
    "    target_size=IMG_SIZE,\n",
    "    batch_size=BATCH_SIZE,\n",
    "    class_mode='sparse'\n",
    ")"
   ]
  },
  {
   "cell_type": "markdown",
   "metadata": {},
   "source": [
    "# CNN Model (DenseNet architecture)"
   ]
  },
  {
   "cell_type": "code",
   "execution_count": null,
   "metadata": {
    "execution": {
     "iopub.execute_input": "2025-03-28T07:06:33.954519Z",
     "iopub.status.busy": "2025-03-28T07:06:33.954115Z",
     "iopub.status.idle": "2025-03-28T07:06:41.659711Z",
     "shell.execute_reply": "2025-03-28T07:06:41.658675Z",
     "shell.execute_reply.started": "2025-03-28T07:06:33.954476Z"
    },
    "trusted": true
   },
   "outputs": [],
   "source": [
    "# Load VGG19 without the top layer\n",
    "base_model = DenseNet201(weights='imagenet', include_top=False, input_shape=(224, 224, 3))\n",
    "\n",
    "x = Lambda(lambda z: -z)(base_model.output) \n",
    "x = MaxPooling2D(pool_size=(2, 2), strides=(2, 2), padding='valid')(x) \n",
    "x = Lambda(lambda z: -z)(x)  \n",
    "\n",
    "x = Lambda(lambda z: -z)(base_model.output) \n",
    "x = MaxPooling2D(pool_size=(2, 2), strides=(2, 2), padding='valid')(x) \n",
    "x = Lambda(lambda z: -z)(x)\n",
    "\n",
    "x = GlobalAveragePooling2D()(x)\n",
    "x = BatchNormalization()(x)\n",
    "x = Dropout(0.5)(x)\n",
    "\n",
    "x = Dense(256, kernel_regularizer=l2(0.001))(x)\n",
    "x = LeakyReLU(negative_slope=0.02)(x)\n",
    "x = BatchNormalization()(x)\n",
    "x = Dropout(0.3)(x)\n",
    "\n",
    "x = Dense(32, kernel_regularizer=l2(0.001))(x)\n",
    "x = LeakyReLU(negative_slope=0.02)(x)\n",
    "x = BatchNormalization()(x)\n",
    "x = Dropout(0.1)(x)\n",
    "\n",
    "# Output Layer\n",
    "x = Dense(3, activation='softmax', kernel_regularizer=l2(0.01))(x)\n",
    "\n",
    "denseNetLeakyV2Model = Model(inputs=base_model.input, outputs=x)"
   ]
  },
  {
   "cell_type": "markdown",
   "metadata": {},
   "source": [
    "## Model Summary"
   ]
  },
  {
   "cell_type": "code",
   "execution_count": null,
   "metadata": {
    "collapsed": true,
    "execution": {
     "iopub.execute_input": "2025-03-28T07:06:41.661569Z",
     "iopub.status.busy": "2025-03-28T07:06:41.661233Z",
     "iopub.status.idle": "2025-03-28T07:06:42.467142Z",
     "shell.execute_reply": "2025-03-28T07:06:42.465754Z",
     "shell.execute_reply.started": "2025-03-28T07:06:41.661527Z"
    },
    "jupyter": {
     "outputs_hidden": true
    },
    "trusted": true
   },
   "outputs": [],
   "source": [
    "denseNetLeakyV2Model.summary()"
   ]
  },
  {
   "cell_type": "markdown",
   "metadata": {},
   "source": [
    "# Model compilation"
   ]
  },
  {
   "cell_type": "code",
   "execution_count": null,
   "metadata": {
    "execution": {
     "iopub.execute_input": "2025-03-28T07:06:51.371801Z",
     "iopub.status.busy": "2025-03-28T07:06:51.371410Z",
     "iopub.status.idle": "2025-03-28T07:06:51.390447Z",
     "shell.execute_reply": "2025-03-28T07:06:51.389245Z",
     "shell.execute_reply.started": "2025-03-28T07:06:51.371767Z"
    },
    "trusted": true
   },
   "outputs": [],
   "source": [
    "# compiling the model\n",
    "denseNetLeakyV2Model.compile(optimizer=Adam(1e-4), loss='sparse_categorical_crossentropy', metrics=['accuracy'])\n",
    "\n",
    "# Learning Rate Scheduler: Reduce LR if validation loss stops improving\n",
    "lr_scheduler = ReduceLROnPlateau(monitor='val_loss', factor=0.5, patience=3, verbose=1, min_lr=1e-6)\n",
    "\n",
    "# setting checkpoint for the optimal weights corresponding to the minimum loss\n",
    "checkpoint = ModelCheckpoint(\"/kaggle/working/denseNetLeakyV2Model.weights.h5\", monitor=\"val_loss\", save_best_only=True, save_weights_only=True, mode=\"min\", verbose=1)\n",
    "\n",
    "# Early Stopping: Stop training if val_loss doesn't improve for 5 epochs\n",
    "# early_stopping = EarlyStopping(monitor='val_loss', patience=5, restore_best_weights=True, verbose=1)"
   ]
  },
  {
   "cell_type": "code",
   "execution_count": null,
   "metadata": {
    "execution": {
     "iopub.execute_input": "2025-03-28T07:07:28.140438Z",
     "iopub.status.busy": "2025-03-28T07:07:28.140043Z",
     "iopub.status.idle": "2025-03-28T07:07:31.073769Z",
     "shell.execute_reply": "2025-03-28T07:07:31.072537Z",
     "shell.execute_reply.started": "2025-03-28T07:07:28.140410Z"
    },
    "trusted": true
   },
   "outputs": [],
   "source": [
    "denseNetLeakyV2Model.load_weights(\"/kaggle/input/leakyrelu-densenet-weights/denseNetLeakyV2Model.weights.h5\")"
   ]
  },
  {
   "cell_type": "markdown",
   "metadata": {},
   "source": [
    "# Model fitting"
   ]
  },
  {
   "cell_type": "code",
   "execution_count": null,
   "metadata": {
    "execution": {
     "iopub.execute_input": "2025-03-28T04:38:13.660353Z",
     "iopub.status.busy": "2025-03-28T04:38:13.660074Z",
     "iopub.status.idle": "2025-03-28T05:56:22.752398Z",
     "shell.execute_reply": "2025-03-28T05:56:22.751726Z",
     "shell.execute_reply.started": "2025-03-28T04:38:13.660331Z"
    },
    "trusted": true
   },
   "outputs": [],
   "source": [
    "# fitting the model\n",
    "\"\"\"history = denseNetLeakyV2Model.fit(\n",
    "    train_generator,\n",
    "    validation_data=valid_generator,\n",
    "    epochs = 30,\n",
    "    callbacks=[checkpoint, lr_scheduler]\n",
    ")\"\""
   ]
  },
  {
   "cell_type": "markdown",
   "metadata": {},
   "source": [
    "# Loading optimized weights"
   ]
  },
  {
   "cell_type": "code",
   "execution_count": null,
   "metadata": {
    "execution": {
     "iopub.execute_input": "2025-03-28T05:56:27.800673Z",
     "iopub.status.busy": "2025-03-28T05:56:27.800363Z",
     "iopub.status.idle": "2025-03-28T05:56:30.129842Z",
     "shell.execute_reply": "2025-03-28T05:56:30.128961Z",
     "shell.execute_reply.started": "2025-03-28T05:56:27.800623Z"
    },
    "trusted": true
   },
   "outputs": [],
   "source": [
    "# Load and display the optimized weights\n",
    "\n",
    "# Load best weights\n",
    "denseNetLeakyV2Model.save_weights(\"/kaggle/working/denseNetLeakyV2Model.weights.h5\")\n",
    "\n",
    "# Get all layer weights as a list of NumPy arrays\n",
    "optimized_weights = denseNetLeakyV2Model.get_weights()\n",
    "\n",
    "# Print weight values for each layer\n",
    "'''for i, weight in enumerate(optimized_weights):\n",
    "    print(f\"Weight {i+1}: Shape = {weight.shape}\")\n",
    "    print(weight)\n",
    "    print(\"\\n\" + \"-\"*50)***\n",
    "'''"
   ]
  },
  {
   "cell_type": "markdown",
   "metadata": {},
   "source": [
    "# Validation dataset accuracy"
   ]
  },
  {
   "cell_type": "code",
   "execution_count": null,
   "metadata": {
    "execution": {
     "iopub.execute_input": "2025-03-28T07:14:08.429082Z",
     "iopub.status.busy": "2025-03-28T07:14:08.428623Z",
     "iopub.status.idle": "2025-03-28T07:14:52.845118Z",
     "shell.execute_reply": "2025-03-28T07:14:52.843887Z",
     "shell.execute_reply.started": "2025-03-28T07:14:08.429041Z"
    },
    "trusted": true
   },
   "outputs": [],
   "source": [
    "# validation loss and validation accurracy\n",
    "from sklearn.metrics import accuracy_score\n",
    "import numpy as np\n",
    "\n",
    "class_map = {0: \"melanoma\", 1: \"nevus\", 2:\"seborrheic-keratosis\"}\n",
    "\n",
    "# Model evaluation\n",
    "validation_loss, validation_accuracy = denseNetLeakyV2Model.evaluate(valid_generator)\n",
    "print(f\"Validation Accuracy: {validation_accuracy * 100:.2f}%\")\n",
    "print(f\"Validation loss: {validation_loss:.4f}\")\n",
    "\n",
    "\n",
    "# Model predictions\n",
    "valid_generator.shuffle = True\n",
    "predictions = denseNetLeakyV2Model.predict(valid_generator)\n",
    "predicted_classes = np.argmax(predictions, axis=1)\n",
    "true_classes = valid_generator.classes\n",
    "test_length = len(true_classes)\n",
    "\n",
    "# Print predicted classes on validation set\n",
    "print(\"Predicted vs True Classes:\")\n",
    "for i in range(test_length):\n",
    "    print(f\"Sample {i+1:<3}: Predicted = {class_map[predicted_classes[i]]:<25} True = {class_map[true_classes[i]]:<25}\")\n",
    "\n",
    "# individual percentage of correctly predicted classes\n",
    "mel, nev, seb = 0, 0, 0\n",
    "for i in range(test_length):\n",
    "    mel += (true_classes[i] == 0)\n",
    "    nev += (true_classes[i] == 1)\n",
    "    seb += (true_classes[i] == 2)\n",
    "\n",
    "print(mel, nev, seb)\n",
    "\n",
    "correct_mel, correct_nev, correct_seb = 0, 0, 0\n",
    "\n",
    "for i in range(mel):\n",
    "    correct_mel += (predicted_classes[i] == 0)\n",
    "\n",
    "for i in range(mel, mel+nev):\n",
    "    correct_nev += (predicted_classes[i] == 1)\n",
    "\n",
    "for i in range(mel+nev, test_length):\n",
    "    correct_seb += (predicted_classes[i] == 2)\n",
    "\n",
    "print(\"Correctly predicted melanoma: \", (correct_mel / mel) * 100, \"%\")\n",
    "print(\"Correctly predicted nevus: \", (correct_nev / nev) * 100, \"%\")\n",
    "print(\"Correctly predicted seborrheic-keratosis: \", (correct_seb / seb) * 100, \"%\")\n",
    "\n",
    "\n",
    "# Computing correct prediction percentage\n",
    "accuracy = accuracy_score(true_classes, predicted_classes) * 100\n",
    "print(f\"Correct Prediction Percentage: {accuracy:.2f}%\")"
   ]
  },
  {
   "cell_type": "markdown",
   "metadata": {},
   "source": [
    "# test dataset accuracy"
   ]
  },
  {
   "cell_type": "code",
   "execution_count": null,
   "metadata": {
    "execution": {
     "iopub.execute_input": "2025-03-28T07:18:56.682365Z",
     "iopub.status.busy": "2025-03-28T07:18:56.681933Z",
     "iopub.status.idle": "2025-03-28T07:21:48.069847Z",
     "shell.execute_reply": "2025-03-28T07:21:48.068580Z",
     "shell.execute_reply.started": "2025-03-28T07:18:56.682329Z"
    },
    "trusted": true
   },
   "outputs": [],
   "source": [
    "# test loss and test accurracy\n",
    "from sklearn.metrics import accuracy_score\n",
    "import numpy as np\n",
    "\n",
    "class_map = {0: \"melanoma\", 1: \"nevus\", 2:\"seborrheic-keratosis\"}\n",
    "\n",
    "# Model evaluation\n",
    "test_loss, test_accuracy = denseNetLeakyV2Model.evaluate(test_generator)\n",
    "print(f\"Test Accuracy: {test_accuracy * 100:.2f}%\")\n",
    "print(f\"Test loss: {test_loss:.4f}\")\n",
    "\n",
    "\n",
    "# Model predictions\n",
    "test_generator.shuffle = True\n",
    "predictions = denseNetLeakyV2Model.predict(test_generator)\n",
    "predicted_classes = np.argmax(predictions, axis=1)\n",
    "true_classes = test_generator.classes\n",
    "test_length = len(true_classes)\n",
    "\n",
    "# Print predicted classes on the test dataset\n",
    "print(\"Predicted vs True Classes:\")\n",
    "for i in range(test_length):\n",
    "    print(f\"Sample {i+1:<3}: Predicted = {class_map[predicted_classes[i]]:<25} True = {class_map[true_classes[i]]:<25}\")\n",
    "\n",
    "# individual percentage of correctly predicted classes\n",
    "mel, nev, seb = 0, 0, 0\n",
    "for i in range(test_length):\n",
    "    mel += (true_classes[i] == 0)\n",
    "    nev += (true_classes[i] == 1)\n",
    "    seb += (true_classes[i] == 2)\n",
    "\n",
    "print(mel, nev, seb)\n",
    "\n",
    "correct_mel, correct_nev, correct_seb = 0, 0, 0\n",
    "\n",
    "for i in range(mel):\n",
    "    correct_mel += (predicted_classes[i] == 0)\n",
    "\n",
    "for i in range(mel, mel+nev):\n",
    "    correct_nev += (predicted_classes[i] == 1)\n",
    "\n",
    "for i in range(mel+nev, test_length):\n",
    "    correct_seb += (predicted_classes[i] == 2)\n",
    "\n",
    "print(\"Correctly predicted melanoma: \", (correct_mel / mel) * 100, \"%\")\n",
    "print(\"Correctly predicted nevus: \", (correct_nev / nev) * 100, \"%\")\n",
    "print(\"Correctly predicted seborrheic-keratosis: \", (correct_seb / seb) * 100, \"%\")\n",
    "\n",
    "\n",
    "# Computing correct prediction percentage\n",
    "accuracy = accuracy_score(true_classes, predicted_classes) * 100\n",
    "print(f\"Correct Prediction Percentage: {accuracy:.2f}%\")"
   ]
  },
  {
   "cell_type": "markdown",
   "metadata": {},
   "source": [
    "# Scatterplot with classifier"
   ]
  },
  {
   "cell_type": "code",
   "execution_count": null,
   "metadata": {
    "execution": {
     "iopub.execute_input": "2025-03-28T05:59:27.215617Z",
     "iopub.status.busy": "2025-03-28T05:59:27.215322Z",
     "iopub.status.idle": "2025-03-28T05:59:29.277274Z",
     "shell.execute_reply": "2025-03-28T05:59:29.276399Z",
     "shell.execute_reply.started": "2025-03-28T05:59:27.215592Z"
    },
    "trusted": true
   },
   "outputs": [],
   "source": [
    "import numpy as np\n",
    "import matplotlib.pyplot as plt\n",
    "import seaborn as sns\n",
    "from sklearn.decomposition import PCA\n",
    "from sklearn.svm import SVC  # Using SVM for decision boundaries\n",
    "\n",
    "# Apply PCA to reduce dimensions to 2D\n",
    "pca = PCA(n_components=2)\n",
    "test_data_2d = pca.fit_transform(predictions)\n",
    "\n",
    "# Train a classifier (SVM) on the PCA-transformed data\n",
    "svm_model = SVC(kernel=\"linear\", C=1.0)  # Linear SVM for decision boundaries\n",
    "svm_model.fit(test_data_2d, predicted_classes)\n",
    "\n",
    "# Create a mesh grid for shading the decision regions\n",
    "x_min, x_max = test_data_2d[:, 0].min() - 0.5, test_data_2d[:, 0].max() + 0.5\n",
    "y_min, y_max = test_data_2d[:, 1].min() - 0.5, test_data_2d[:, 1].max() + 0.5\n",
    "xx, yy = np.meshgrid(np.linspace(x_min, x_max, 200), np.linspace(y_min, y_max, 200))\n",
    "\n",
    "# Predict class for each point in the mesh grid\n",
    "Z = svm_model.predict(np.c_[xx.ravel(), yy.ravel()])\n",
    "Z = Z.reshape(xx.shape)\n",
    "\n",
    "# Define color mappings\n",
    "colors = ['red', 'blue', 'green']\n",
    "class_names = ['Melanoma', 'Nevus', 'Seborrheic Keratosis']\n",
    "region_colors = [\"red\", \"blue\", \"green\"]\n",
    "\n",
    "# Plot decision boundary with shading\n",
    "plt.figure(figsize=(10, 6))\n",
    "plt.contourf(xx, yy, Z, alpha=0.3, cmap=plt.cm.coolwarm)\n",
    "\n",
    "# Scatter plot with actual test points\n",
    "sns.scatterplot(x=test_data_2d[:, 0], y=test_data_2d[:, 1], hue=predicted_classes, palette=colors, edgecolor='k', s=50)\n",
    "\n",
    "# Improve visualization\n",
    "plt.xlabel(\"PCA Component 1\")\n",
    "plt.ylabel(\"PCA Component 2\")\n",
    "plt.title(\"Decision Boundaries for Skin Cancer Classification\")\n",
    "plt.legend(handles=[plt.Line2D([0], [0], marker=\"o\", color=\"w\", markerfacecolor=colors[i], markersize=10, label=class_names[i]) for i in range(3)], title=\"Skin Cancer Type\", loc=\"upper left\")\n",
    "plt.xlim(-0.5, 0.85)  \n",
    "plt.ylim(-0.9, 0.9)   \n",
    "\n",
    "\n",
    "plt.grid(True)\n",
    "plt.show()"
   ]
  },
  {
   "cell_type": "markdown",
   "metadata": {},
   "source": [
    "# Training vs validation accuracy"
   ]
  },
  {
   "cell_type": "code",
   "execution_count": null,
   "metadata": {
    "execution": {
     "iopub.execute_input": "2025-03-28T05:59:29.814299Z",
     "iopub.status.busy": "2025-03-28T05:59:29.813617Z",
     "iopub.status.idle": "2025-03-28T05:59:30.048517Z",
     "shell.execute_reply": "2025-03-28T05:59:30.047634Z",
     "shell.execute_reply.started": "2025-03-28T05:59:29.814268Z"
    },
    "trusted": true
   },
   "outputs": [],
   "source": [
    "# Get accuracy and loss values from the training history\n",
    "train_accuracy = history.history['accuracy']\n",
    "val_accuracy = history.history['val_accuracy']\n",
    "train_loss = history.history['loss']\n",
    "val_loss = history.history['val_loss']\n",
    "\n",
    "# Plot Training Accuracy vs. Validation Accuracy\n",
    "plt.figure(figsize=(12, 6))\n",
    "\n",
    "plt.subplot(1, 2, 1)\n",
    "plt.plot(train_accuracy, label='Training Accuracy', linestyle='-')\n",
    "plt.plot(val_accuracy, label='Validation Accuracy', linestyle='-')\n",
    "plt.title('Training Accuracy vs. Validation Accuracy')\n",
    "plt.xlabel('Epochs')\n",
    "plt.ylabel('Accuracy')\n",
    "plt.legend()\n",
    "\n",
    "# Display the plots\n",
    "plt.tight_layout()\n",
    "plt.show()"
   ]
  },
  {
   "cell_type": "markdown",
   "metadata": {},
   "source": [
    "# Training vs validation loss"
   ]
  },
  {
   "cell_type": "code",
   "execution_count": null,
   "metadata": {
    "execution": {
     "iopub.execute_input": "2025-03-28T05:59:42.206593Z",
     "iopub.status.busy": "2025-03-28T05:59:42.206286Z",
     "iopub.status.idle": "2025-03-28T05:59:42.416761Z",
     "shell.execute_reply": "2025-03-28T05:59:42.416010Z",
     "shell.execute_reply.started": "2025-03-28T05:59:42.206567Z"
    },
    "trusted": true
   },
   "outputs": [],
   "source": [
    "# Get accuracy and loss values from the training history\n",
    "train_accuracy = history.history['accuracy']\n",
    "val_accuracy = history.history['val_accuracy']\n",
    "train_loss = history.history['loss']\n",
    "val_loss = history.history['val_loss']\n",
    "\n",
    "# Plot Training Loss vs. Validation Loss\n",
    "plt.figure(figsize=(12, 6))\n",
    "\n",
    "plt.subplot(1, 2, 2)\n",
    "plt.plot(train_loss, label='Training Loss', linestyle='-')\n",
    "plt.plot(val_loss, label='Validation Loss', linestyle='-')\n",
    "plt.title('Training Loss vs. Validation Loss')\n",
    "plt.xlabel('Epochs')\n",
    "plt.ylabel('Loss')\n",
    "plt.legend()\n",
    "\n",
    "# Display the plots\n",
    "plt.tight_layout()\n",
    "plt.show()"
   ]
  },
  {
   "cell_type": "markdown",
   "metadata": {},
   "source": [
    "# Confusion Matrix"
   ]
  },
  {
   "cell_type": "code",
   "execution_count": null,
   "metadata": {
    "execution": {
     "iopub.execute_input": "2025-03-28T07:22:12.334055Z",
     "iopub.status.busy": "2025-03-28T07:22:12.333613Z",
     "iopub.status.idle": "2025-03-28T07:22:13.199749Z",
     "shell.execute_reply": "2025-03-28T07:22:13.198687Z",
     "shell.execute_reply.started": "2025-03-28T07:22:12.334020Z"
    },
    "trusted": true
   },
   "outputs": [],
   "source": [
    "from sklearn.metrics import confusion_matrix\n",
    "import seaborn as sns\n",
    "import matplotlib.pyplot as plt\n",
    "\n",
    "cm = confusion_matrix(true_classes, predicted_classes)\n",
    "sns.heatmap(cm, annot=True, cmap=\"Blues\", fmt='d', xticklabels=class_map.values(), yticklabels=class_map.values())\n",
    "plt.xlabel(\"Predicted\")\n",
    "plt.ylabel(\"True\")\n",
    "plt.title(\"Confusion Matrix\")\n",
    "plt.show()"
   ]
  }
 ],
 "metadata": {
  "kaggle": {
   "accelerator": "none",
   "dataSources": [
    {
     "datasetId": 6986985,
     "sourceId": 11192162,
     "sourceType": "datasetVersion"
    },
    {
     "datasetId": 6987830,
     "sourceId": 11193300,
     "sourceType": "datasetVersion"
    }
   ],
   "dockerImageVersionId": 30919,
   "isGpuEnabled": false,
   "isInternetEnabled": true,
   "language": "python",
   "sourceType": "notebook"
  },
  "kernelspec": {
   "display_name": "Python 3",
   "language": "python",
   "name": "python3"
  },
  "language_info": {
   "codemirror_mode": {
    "name": "ipython",
    "version": 3
   },
   "file_extension": ".py",
   "mimetype": "text/x-python",
   "name": "python",
   "nbconvert_exporter": "python",
   "pygments_lexer": "ipython3",
   "version": "3.10.12"
  }
 },
 "nbformat": 4,
 "nbformat_minor": 4
}
